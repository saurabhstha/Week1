{
 "cells": [
  {
   "cell_type": "markdown",
   "id": "92a55193",
   "metadata": {},
   "source": [
    "### 1. Import, Plot, Summarize, and Save Data"
   ]
  },
  {
   "cell_type": "code",
   "execution_count": 121,
   "id": "0585858b",
   "metadata": {},
   "outputs": [],
   "source": [
    "#import required libraries\n",
    "import pandas as pd\n",
    "import numpy as np\n",
    "import matplotlib.pyplot as plt\n",
    "import seaborn as sns"
   ]
  },
  {
   "cell_type": "code",
   "execution_count": 122,
   "id": "45d8e96b",
   "metadata": {},
   "outputs": [],
   "source": [
    "#load the dataset\n",
    "df = pd.read_excel(\"Unemployment.xlsx\")"
   ]
  },
  {
   "cell_type": "code",
   "execution_count": 123,
   "id": "00189c91",
   "metadata": {},
   "outputs": [
    {
     "data": {
      "text/html": [
       "<div>\n",
       "<style scoped>\n",
       "    .dataframe tbody tr th:only-of-type {\n",
       "        vertical-align: middle;\n",
       "    }\n",
       "\n",
       "    .dataframe tbody tr th {\n",
       "        vertical-align: top;\n",
       "    }\n",
       "\n",
       "    .dataframe thead th {\n",
       "        text-align: right;\n",
       "    }\n",
       "</style>\n",
       "<table border=\"1\" class=\"dataframe\">\n",
       "  <thead>\n",
       "    <tr style=\"text-align: right;\">\n",
       "      <th></th>\n",
       "      <th>Year</th>\n",
       "      <th>Jan</th>\n",
       "      <th>Feb</th>\n",
       "      <th>Mar</th>\n",
       "      <th>Apr</th>\n",
       "      <th>May</th>\n",
       "      <th>Jun</th>\n",
       "      <th>Jul</th>\n",
       "      <th>Aug</th>\n",
       "      <th>Sep</th>\n",
       "      <th>Oct</th>\n",
       "      <th>Nov</th>\n",
       "      <th>Dec</th>\n",
       "    </tr>\n",
       "  </thead>\n",
       "  <tbody>\n",
       "    <tr>\n",
       "      <th>0</th>\n",
       "      <td>2011</td>\n",
       "      <td>14013</td>\n",
       "      <td>13820</td>\n",
       "      <td>13737</td>\n",
       "      <td>13957</td>\n",
       "      <td>13855</td>\n",
       "      <td>13962</td>\n",
       "      <td>13763</td>\n",
       "      <td>13818</td>\n",
       "      <td>13948.0</td>\n",
       "      <td>13594.0</td>\n",
       "      <td>13302.0</td>\n",
       "      <td>13093.0</td>\n",
       "    </tr>\n",
       "    <tr>\n",
       "      <th>1</th>\n",
       "      <td>2012</td>\n",
       "      <td>12797</td>\n",
       "      <td>12813</td>\n",
       "      <td>12713</td>\n",
       "      <td>12646</td>\n",
       "      <td>12660</td>\n",
       "      <td>12692</td>\n",
       "      <td>12656</td>\n",
       "      <td>12471</td>\n",
       "      <td>12115.0</td>\n",
       "      <td>12124.0</td>\n",
       "      <td>12005.0</td>\n",
       "      <td>12298.0</td>\n",
       "    </tr>\n",
       "    <tr>\n",
       "      <th>2</th>\n",
       "      <td>2013</td>\n",
       "      <td>12471</td>\n",
       "      <td>11950</td>\n",
       "      <td>11689</td>\n",
       "      <td>11760</td>\n",
       "      <td>11654</td>\n",
       "      <td>11751</td>\n",
       "      <td>11335</td>\n",
       "      <td>11279</td>\n",
       "      <td>11270.0</td>\n",
       "      <td>11136.0</td>\n",
       "      <td>10787.0</td>\n",
       "      <td>10404.0</td>\n",
       "    </tr>\n",
       "    <tr>\n",
       "      <th>3</th>\n",
       "      <td>2014</td>\n",
       "      <td>10202</td>\n",
       "      <td>10349</td>\n",
       "      <td>10380</td>\n",
       "      <td>9702</td>\n",
       "      <td>9859</td>\n",
       "      <td>9460</td>\n",
       "      <td>9608</td>\n",
       "      <td>9599</td>\n",
       "      <td>9262.0</td>\n",
       "      <td>8990.0</td>\n",
       "      <td>9090.0</td>\n",
       "      <td>8717.0</td>\n",
       "    </tr>\n",
       "    <tr>\n",
       "      <th>4</th>\n",
       "      <td>2015</td>\n",
       "      <td>8885</td>\n",
       "      <td>8599</td>\n",
       "      <td>8515</td>\n",
       "      <td>8550</td>\n",
       "      <td>8834</td>\n",
       "      <td>8247</td>\n",
       "      <td>8167</td>\n",
       "      <td>7992</td>\n",
       "      <td>7907.0</td>\n",
       "      <td>7922.0</td>\n",
       "      <td>8000.0</td>\n",
       "      <td>7907.0</td>\n",
       "    </tr>\n",
       "    <tr>\n",
       "      <th>5</th>\n",
       "      <td>2016</td>\n",
       "      <td>7627</td>\n",
       "      <td>7702</td>\n",
       "      <td>7961</td>\n",
       "      <td>8067</td>\n",
       "      <td>7652</td>\n",
       "      <td>7744</td>\n",
       "      <td>7641</td>\n",
       "      <td>7784</td>\n",
       "      <td>7953.0</td>\n",
       "      <td>7811.0</td>\n",
       "      <td>7553.0</td>\n",
       "      <td>7521.0</td>\n",
       "    </tr>\n",
       "    <tr>\n",
       "      <th>6</th>\n",
       "      <td>2017</td>\n",
       "      <td>7466</td>\n",
       "      <td>7376</td>\n",
       "      <td>7119</td>\n",
       "      <td>7196</td>\n",
       "      <td>7020</td>\n",
       "      <td>6861</td>\n",
       "      <td>6825</td>\n",
       "      <td>7079</td>\n",
       "      <td>6840.0</td>\n",
       "      <td>6620.0</td>\n",
       "      <td>6759.0</td>\n",
       "      <td>6632.0</td>\n",
       "    </tr>\n",
       "    <tr>\n",
       "      <th>7</th>\n",
       "      <td>2018</td>\n",
       "      <td>6496</td>\n",
       "      <td>6590</td>\n",
       "      <td>6499</td>\n",
       "      <td>6551</td>\n",
       "      <td>6209</td>\n",
       "      <td>6432</td>\n",
       "      <td>6130</td>\n",
       "      <td>6167</td>\n",
       "      <td>6037.0</td>\n",
       "      <td>6164.0</td>\n",
       "      <td>6115.0</td>\n",
       "      <td>6379.0</td>\n",
       "    </tr>\n",
       "    <tr>\n",
       "      <th>8</th>\n",
       "      <td>2019</td>\n",
       "      <td>6442</td>\n",
       "      <td>6128</td>\n",
       "      <td>6201</td>\n",
       "      <td>5995</td>\n",
       "      <td>5965</td>\n",
       "      <td>5914</td>\n",
       "      <td>5969</td>\n",
       "      <td>6000</td>\n",
       "      <td>5728.0</td>\n",
       "      <td>5922.0</td>\n",
       "      <td>5907.0</td>\n",
       "      <td>5844.0</td>\n",
       "    </tr>\n",
       "    <tr>\n",
       "      <th>9</th>\n",
       "      <td>2020</td>\n",
       "      <td>5796</td>\n",
       "      <td>5717</td>\n",
       "      <td>7185</td>\n",
       "      <td>23109</td>\n",
       "      <td>20975</td>\n",
       "      <td>17697</td>\n",
       "      <td>16308</td>\n",
       "      <td>13542</td>\n",
       "      <td>12535.0</td>\n",
       "      <td>11049.0</td>\n",
       "      <td>10728.0</td>\n",
       "      <td>10736.0</td>\n",
       "    </tr>\n",
       "    <tr>\n",
       "      <th>10</th>\n",
       "      <td>2021</td>\n",
       "      <td>10130</td>\n",
       "      <td>9972</td>\n",
       "      <td>9710</td>\n",
       "      <td>9812</td>\n",
       "      <td>9316</td>\n",
       "      <td>9484</td>\n",
       "      <td>8702</td>\n",
       "      <td>8384</td>\n",
       "      <td>NaN</td>\n",
       "      <td>NaN</td>\n",
       "      <td>NaN</td>\n",
       "      <td>NaN</td>\n",
       "    </tr>\n",
       "  </tbody>\n",
       "</table>\n",
       "</div>"
      ],
      "text/plain": [
       "    Year    Jan    Feb    Mar    Apr    May    Jun    Jul    Aug      Sep  \\\n",
       "0   2011  14013  13820  13737  13957  13855  13962  13763  13818  13948.0   \n",
       "1   2012  12797  12813  12713  12646  12660  12692  12656  12471  12115.0   \n",
       "2   2013  12471  11950  11689  11760  11654  11751  11335  11279  11270.0   \n",
       "3   2014  10202  10349  10380   9702   9859   9460   9608   9599   9262.0   \n",
       "4   2015   8885   8599   8515   8550   8834   8247   8167   7992   7907.0   \n",
       "5   2016   7627   7702   7961   8067   7652   7744   7641   7784   7953.0   \n",
       "6   2017   7466   7376   7119   7196   7020   6861   6825   7079   6840.0   \n",
       "7   2018   6496   6590   6499   6551   6209   6432   6130   6167   6037.0   \n",
       "8   2019   6442   6128   6201   5995   5965   5914   5969   6000   5728.0   \n",
       "9   2020   5796   5717   7185  23109  20975  17697  16308  13542  12535.0   \n",
       "10  2021  10130   9972   9710   9812   9316   9484   8702   8384      NaN   \n",
       "\n",
       "        Oct      Nov      Dec  \n",
       "0   13594.0  13302.0  13093.0  \n",
       "1   12124.0  12005.0  12298.0  \n",
       "2   11136.0  10787.0  10404.0  \n",
       "3    8990.0   9090.0   8717.0  \n",
       "4    7922.0   8000.0   7907.0  \n",
       "5    7811.0   7553.0   7521.0  \n",
       "6    6620.0   6759.0   6632.0  \n",
       "7    6164.0   6115.0   6379.0  \n",
       "8    5922.0   5907.0   5844.0  \n",
       "9   11049.0  10728.0  10736.0  \n",
       "10      NaN      NaN      NaN  "
      ]
     },
     "execution_count": 123,
     "metadata": {},
     "output_type": "execute_result"
    }
   ],
   "source": [
    "#view first 5 rows of the dataset\n",
    "df"
   ]
  },
  {
   "cell_type": "markdown",
   "id": "171b7951",
   "metadata": {},
   "source": [
    "### A small dataset which showcases the unemployment in the years 2011-2021 with the months as the columns(variables). Ages is from 16 and above and the numbers are in thousands.\t\t\t\t"
   ]
  },
  {
   "cell_type": "code",
   "execution_count": 124,
   "id": "7d3a5c17",
   "metadata": {},
   "outputs": [],
   "source": [
    "#dropping null values to avoid errors\n",
    "df.dropna(inplace = True)"
   ]
  },
  {
   "cell_type": "code",
   "execution_count": 125,
   "id": "de89891e",
   "metadata": {},
   "outputs": [
    {
     "data": {
      "text/plain": [
       "Year      int64\n",
       "Jan       int64\n",
       "Feb       int64\n",
       "Mar       int64\n",
       "Apr       int64\n",
       "May       int64\n",
       "Jun       int64\n",
       "Jul       int64\n",
       "Aug       int64\n",
       "Sep     float64\n",
       "Oct     float64\n",
       "Nov     float64\n",
       "Dec     float64\n",
       "dtype: object"
      ]
     },
     "execution_count": 125,
     "metadata": {},
     "output_type": "execute_result"
    }
   ],
   "source": [
    "df.dtypes"
   ]
  },
  {
   "cell_type": "code",
   "execution_count": 126,
   "id": "e811f155",
   "metadata": {},
   "outputs": [
    {
     "name": "stdout",
     "output_type": "stream",
     "text": [
      "Year    int32\n",
      "Jan     int32\n",
      "Feb     int32\n",
      "Mar     int32\n",
      "Apr     int32\n",
      "May     int32\n",
      "Jun     int32\n",
      "Jul     int32\n",
      "Aug     int32\n",
      "Sep     int32\n",
      "Oct     int32\n",
      "Nov     int32\n",
      "Dec     int32\n",
      "dtype: object\n"
     ]
    }
   ],
   "source": [
    "#loop over all columns to convert the numbers to int in the end..\n",
    "for i in df.columns:\n",
    "    try:\n",
    "        df[[i]] = df[[i]].astype(float).astype(int)\n",
    "    except:\n",
    "        pass\n",
    "\n",
    "print(df.dtypes)"
   ]
  },
  {
   "cell_type": "markdown",
   "id": "574d3d26",
   "metadata": {},
   "source": [
    "### Summary Statistics of 2 variables "
   ]
  },
  {
   "cell_type": "code",
   "execution_count": 127,
   "id": "df81f87c",
   "metadata": {},
   "outputs": [
    {
     "data": {
      "text/html": [
       "<div>\n",
       "<style scoped>\n",
       "    .dataframe tbody tr th:only-of-type {\n",
       "        vertical-align: middle;\n",
       "    }\n",
       "\n",
       "    .dataframe tbody tr th {\n",
       "        vertical-align: top;\n",
       "    }\n",
       "\n",
       "    .dataframe thead th {\n",
       "        text-align: right;\n",
       "    }\n",
       "</style>\n",
       "<table border=\"1\" class=\"dataframe\">\n",
       "  <thead>\n",
       "    <tr style=\"text-align: right;\">\n",
       "      <th></th>\n",
       "      <th>Jan</th>\n",
       "      <th>Mar</th>\n",
       "    </tr>\n",
       "  </thead>\n",
       "  <tbody>\n",
       "    <tr>\n",
       "      <th>count</th>\n",
       "      <td>10.000000</td>\n",
       "      <td>10.000000</td>\n",
       "    </tr>\n",
       "    <tr>\n",
       "      <th>mean</th>\n",
       "      <td>9219.500000</td>\n",
       "      <td>9199.900000</td>\n",
       "    </tr>\n",
       "    <tr>\n",
       "      <th>std</th>\n",
       "      <td>2979.349789</td>\n",
       "      <td>2732.471264</td>\n",
       "    </tr>\n",
       "    <tr>\n",
       "      <th>min</th>\n",
       "      <td>5796.000000</td>\n",
       "      <td>6201.000000</td>\n",
       "    </tr>\n",
       "    <tr>\n",
       "      <th>25%</th>\n",
       "      <td>6738.500000</td>\n",
       "      <td>7135.500000</td>\n",
       "    </tr>\n",
       "    <tr>\n",
       "      <th>50%</th>\n",
       "      <td>8256.000000</td>\n",
       "      <td>8238.000000</td>\n",
       "    </tr>\n",
       "    <tr>\n",
       "      <th>75%</th>\n",
       "      <td>11903.750000</td>\n",
       "      <td>11361.750000</td>\n",
       "    </tr>\n",
       "    <tr>\n",
       "      <th>max</th>\n",
       "      <td>14013.000000</td>\n",
       "      <td>13737.000000</td>\n",
       "    </tr>\n",
       "  </tbody>\n",
       "</table>\n",
       "</div>"
      ],
      "text/plain": [
       "                Jan           Mar\n",
       "count     10.000000     10.000000\n",
       "mean    9219.500000   9199.900000\n",
       "std     2979.349789   2732.471264\n",
       "min     5796.000000   6201.000000\n",
       "25%     6738.500000   7135.500000\n",
       "50%     8256.000000   8238.000000\n",
       "75%    11903.750000  11361.750000\n",
       "max    14013.000000  13737.000000"
      ]
     },
     "execution_count": 127,
     "metadata": {},
     "output_type": "execute_result"
    }
   ],
   "source": [
    "#summary statistics of January and March\n",
    "\n",
    "df[['Jan','Mar']].describe()"
   ]
  },
  {
   "cell_type": "markdown",
   "id": "5d1be9e4",
   "metadata": {},
   "source": []
  },
  {
   "cell_type": "markdown",
   "id": "fbc958e9",
   "metadata": {},
   "source": [
    "### Plot some of the features (e.g., histograms, box plots, density plots, etc.) of several variables"
   ]
  },
  {
   "cell_type": "markdown",
   "id": "275b2ba2",
   "metadata": {},
   "source": [
    "### Density plot"
   ]
  },
  {
   "cell_type": "code",
   "execution_count": 128,
   "id": "8ba52635",
   "metadata": {},
   "outputs": [
    {
     "data": {
      "text/plain": [
       "Text(0.5, 1.0, 'Density plot for April unemployment from 2011-2021(in thousands)')"
      ]
     },
     "execution_count": 128,
     "metadata": {},
     "output_type": "execute_result"
    },
    {
     "data": {
      "image/png": "[encoded data removed]",
      "text/plain": [
       "<Figure size 1296x432 with 1 Axes>"
      ]
     },
     "metadata": {
      "needs_background": "light"
     },
     "output_type": "display_data"
    }
   ],
   "source": [
    "#plotting the density plot of 'April' variable from 2011 - 2021\n",
    "#using plot.density()\n",
    "df.Apr.plot.density(color= 'green')\n",
    "plt.title('Density plot for April unemployment from 2011-2021(in thousands)')"
   ]
  },
  {
   "cell_type": "markdown",
   "id": "4058c2f7",
   "metadata": {},
   "source": [
    "### Histogram"
   ]
  },
  {
   "cell_type": "code",
   "execution_count": 129,
   "id": "9a3fc38e",
   "metadata": {},
   "outputs": [
    {
     "data": {
      "image/png": "[encoded data removed]",
      "text/plain": [
       "<Figure size 1296x432 with 2 Axes>"
      ]
     },
     "metadata": {
      "needs_background": "light"
     },
     "output_type": "display_data"
    }
   ],
   "source": [
    "#set up the figure size\n",
    "plt.rcParams['figure.figsize'] = (18,6)\n",
    "\n",
    "#make subplots\n",
    "fig, axes = plt.subplots(nrows = 1, ncols = 2)\n",
    "\n",
    "#Feature used\n",
    "feature_new = ['Jan','Mar']\n",
    "\n",
    "xaxes = feature_new\n",
    "yaxes = ['Frequency', 'Frequency']\n",
    "\n",
    "#draw histogram\n",
    "monthly_axes = axes.ravel()\n",
    "\n",
    "for idx,ax in enumerate(monthly_axes):\n",
    "    ax.hist(df[feature_new[idx]].dropna(), bins=30)\n",
    "    ax.set_xlabel(xaxes[idx], fontsize=20)\n",
    "    ax.set_ylabel(yaxes[idx], fontsize=20)\n",
    "    ax.tick_params(axis='both', labelsize=15)"
   ]
  },
  {
   "cell_type": "code",
   "execution_count": 130,
   "id": "e0bd447f",
   "metadata": {},
   "outputs": [
    {
     "data": {
      "text/plain": [
       "{'whiskers': [<matplotlib.lines.Line2D at 0x1b8c8b17bb0>,\n",
       "  <matplotlib.lines.Line2D at 0x1b8c8fdb520>,\n",
       "  <matplotlib.lines.Line2D at 0x1b8c8449d30>,\n",
       "  <matplotlib.lines.Line2D at 0x1b8c8479820>,\n",
       "  <matplotlib.lines.Line2D at 0x1b8c8b6abe0>,\n",
       "  <matplotlib.lines.Line2D at 0x1b8c8af9490>,\n",
       "  <matplotlib.lines.Line2D at 0x1b8c8b00880>,\n",
       "  <matplotlib.lines.Line2D at 0x1b8c8b00130>,\n",
       "  <matplotlib.lines.Line2D at 0x1b8c8545b80>,\n",
       "  <matplotlib.lines.Line2D at 0x1b8c8ab3ca0>,\n",
       "  <matplotlib.lines.Line2D at 0x1b8c8b81520>,\n",
       "  <matplotlib.lines.Line2D at 0x1b8c8b038b0>,\n",
       "  <matplotlib.lines.Line2D at 0x1b8c8b06d90>,\n",
       "  <matplotlib.lines.Line2D at 0x1b8c8b06700>,\n",
       "  <matplotlib.lines.Line2D at 0x1b8cb147940>,\n",
       "  <matplotlib.lines.Line2D at 0x1b8cb147ca0>,\n",
       "  <matplotlib.lines.Line2D at 0x1b8cb15e160>,\n",
       "  <matplotlib.lines.Line2D at 0x1b8cb15e4c0>,\n",
       "  <matplotlib.lines.Line2D at 0x1b8cb16a940>,\n",
       "  <matplotlib.lines.Line2D at 0x1b8cb16aca0>,\n",
       "  <matplotlib.lines.Line2D at 0x1b8cb181160>,\n",
       "  <matplotlib.lines.Line2D at 0x1b8cb1814c0>,\n",
       "  <matplotlib.lines.Line2D at 0x1b8cb18f940>,\n",
       "  <matplotlib.lines.Line2D at 0x1b8cb18fca0>,\n",
       "  <matplotlib.lines.Line2D at 0x1b8cb1a7160>,\n",
       "  <matplotlib.lines.Line2D at 0x1b8cb1a74c0>],\n",
       " 'caps': [<matplotlib.lines.Line2D at 0x1b8c8fdb160>,\n",
       "  <matplotlib.lines.Line2D at 0x1b8c8fdbaf0>,\n",
       "  <matplotlib.lines.Line2D at 0x1b8c84795b0>,\n",
       "  <matplotlib.lines.Line2D at 0x1b8c8549b50>,\n",
       "  <matplotlib.lines.Line2D at 0x1b8c8af9160>,\n",
       "  <matplotlib.lines.Line2D at 0x1b8c8b62d00>,\n",
       "  <matplotlib.lines.Line2D at 0x1b8c8b00100>,\n",
       "  <matplotlib.lines.Line2D at 0x1b8c8536a00>,\n",
       "  <matplotlib.lines.Line2D at 0x1b8c8abc580>,\n",
       "  <matplotlib.lines.Line2D at 0x1b8c8b81ca0>,\n",
       "  <matplotlib.lines.Line2D at 0x1b8c8b03070>,\n",
       "  <matplotlib.lines.Line2D at 0x1b8c8b03fa0>,\n",
       "  <matplotlib.lines.Line2D at 0x1b8c8b06430>,\n",
       "  <matplotlib.lines.Line2D at 0x1b8cad6e5e0>,\n",
       "  <matplotlib.lines.Line2D at 0x1b8cb153040>,\n",
       "  <matplotlib.lines.Line2D at 0x1b8cb1533a0>,\n",
       "  <matplotlib.lines.Line2D at 0x1b8cb15e820>,\n",
       "  <matplotlib.lines.Line2D at 0x1b8cb15eb80>,\n",
       "  <matplotlib.lines.Line2D at 0x1b8cb176040>,\n",
       "  <matplotlib.lines.Line2D at 0x1b8cb1763a0>,\n",
       "  <matplotlib.lines.Line2D at 0x1b8cb181820>,\n",
       "  <matplotlib.lines.Line2D at 0x1b8cb181b80>,\n",
       "  <matplotlib.lines.Line2D at 0x1b8cb19a040>,\n",
       "  <matplotlib.lines.Line2D at 0x1b8cb19a3a0>,\n",
       "  <matplotlib.lines.Line2D at 0x1b8cb1a7820>,\n",
       "  <matplotlib.lines.Line2D at 0x1b8cb1a7b80>],\n",
       " 'boxes': [<matplotlib.lines.Line2D at 0x1b8c8b17b50>,\n",
       "  <matplotlib.lines.Line2D at 0x1b8c8542b20>,\n",
       "  <matplotlib.lines.Line2D at 0x1b8c8b6aa30>,\n",
       "  <matplotlib.lines.Line2D at 0x1b8c8b00a00>,\n",
       "  <matplotlib.lines.Line2D at 0x1b8c8acf1f0>,\n",
       "  <matplotlib.lines.Line2D at 0x1b8c8b81070>,\n",
       "  <matplotlib.lines.Line2D at 0x1b8c8b06580>,\n",
       "  <matplotlib.lines.Line2D at 0x1b8cb1475e0>,\n",
       "  <matplotlib.lines.Line2D at 0x1b8cb153dc0>,\n",
       "  <matplotlib.lines.Line2D at 0x1b8cb16a5e0>,\n",
       "  <matplotlib.lines.Line2D at 0x1b8cb176dc0>,\n",
       "  <matplotlib.lines.Line2D at 0x1b8cb18f5e0>,\n",
       "  <matplotlib.lines.Line2D at 0x1b8cb19adc0>],\n",
       " 'medians': [<matplotlib.lines.Line2D at 0x1b8c8fdbe20>,\n",
       "  <matplotlib.lines.Line2D at 0x1b8c8b6a5b0>,\n",
       "  <matplotlib.lines.Line2D at 0x1b8c8b62c40>,\n",
       "  <matplotlib.lines.Line2D at 0x1b8c8536b20>,\n",
       "  <matplotlib.lines.Line2D at 0x1b8c8b817c0>,\n",
       "  <matplotlib.lines.Line2D at 0x1b8c8b03a00>,\n",
       "  <matplotlib.lines.Line2D at 0x1b8cad6ef70>,\n",
       "  <matplotlib.lines.Line2D at 0x1b8cb153700>,\n",
       "  <matplotlib.lines.Line2D at 0x1b8cb15eee0>,\n",
       "  <matplotlib.lines.Line2D at 0x1b8cb176700>,\n",
       "  <matplotlib.lines.Line2D at 0x1b8cb181ee0>,\n",
       "  <matplotlib.lines.Line2D at 0x1b8cb19a700>,\n",
       "  <matplotlib.lines.Line2D at 0x1b8cb1a7ee0>],\n",
       " 'fliers': [<matplotlib.lines.Line2D at 0x1b8c8542cd0>,\n",
       "  <matplotlib.lines.Line2D at 0x1b8c8b6aa90>,\n",
       "  <matplotlib.lines.Line2D at 0x1b8c8b00af0>,\n",
       "  <matplotlib.lines.Line2D at 0x1b8c8acfe20>,\n",
       "  <matplotlib.lines.Line2D at 0x1b8c8b81a90>,\n",
       "  <matplotlib.lines.Line2D at 0x1b8c8b03370>,\n",
       "  <matplotlib.lines.Line2D at 0x1b8cb147280>,\n",
       "  <matplotlib.lines.Line2D at 0x1b8cb153a60>,\n",
       "  <matplotlib.lines.Line2D at 0x1b8cb16a280>,\n",
       "  <matplotlib.lines.Line2D at 0x1b8cb176a60>,\n",
       "  <matplotlib.lines.Line2D at 0x1b8cb18f280>,\n",
       "  <matplotlib.lines.Line2D at 0x1b8cb19aa60>,\n",
       "  <matplotlib.lines.Line2D at 0x1b8cb1b1280>],\n",
       " 'means': []}"
      ]
     },
     "execution_count": 130,
     "metadata": {},
     "output_type": "execute_result"
    },
    {
     "data": {
      "image/png": "[encoded data removed]",
      "text/plain": [
       "<Figure size 1296x432 with 1 Axes>"
      ]
     },
     "metadata": {
      "needs_background": "light"
     },
     "output_type": "display_data"
    }
   ],
   "source": [
    "#create boxplot\n",
    "plt.boxplot(df)"
   ]
  },
  {
   "cell_type": "code",
   "execution_count": 131,
   "id": "b002d48b",
   "metadata": {},
   "outputs": [],
   "source": [
    "#save the data locally as CSV files.\n",
    "df.to_csv('df.csv')"
   ]
  },
  {
   "cell_type": "markdown",
   "id": "94984fb1",
   "metadata": {},
   "source": [
    "### 2. Explore few Bivariate Relations"
   ]
  },
  {
   "cell_type": "code",
   "execution_count": 132,
   "id": "d2fc1981",
   "metadata": {},
   "outputs": [
    {
     "data": {
      "text/plain": [
       "<AxesSubplot:>"
      ]
     },
     "execution_count": 132,
     "metadata": {},
     "output_type": "execute_result"
    },
    {
     "data": {
      "image/png": "[encoded data removed]",
      "text/plain": [
       "<Figure size 1296x432 with 1 Axes>"
      ]
     },
     "metadata": {
      "needs_background": "light"
     },
     "output_type": "display_data"
    }
   ],
   "source": [
    "#line plot are bivariate plot.\n",
    "#Below line plot shows  individual symbols connected by line segments.\n",
    "df.plot.line()"
   ]
  },
  {
   "cell_type": "code",
   "execution_count": 135,
   "id": "69082cdc",
   "metadata": {},
   "outputs": [
    {
     "data": {
      "text/plain": [
       "<AxesSubplot:xlabel='Mar', ylabel='May'>"
      ]
     },
     "execution_count": 135,
     "metadata": {},
     "output_type": "execute_result"
    },
    {
     "data": {
      "image/png": "[encoded data removed]",
      "text/plain": [
       "<Figure size 1296x432 with 1 Axes>"
      ]
     },
     "metadata": {
      "needs_background": "light"
     },
     "output_type": "display_data"
    }
   ],
   "source": [
    "#scatter plot between March and May variable.\n",
    "sns.scatterplot(x=df['Mar'], y = df['May'])"
   ]
  },
  {
   "cell_type": "code",
   "execution_count": null,
   "id": "e2010216",
   "metadata": {},
   "outputs": [],
   "source": []
  },
  {
   "cell_type": "markdown",
   "id": "df4218ff",
   "metadata": {},
   "source": [
    "### Summary Report"
   ]
  },
  {
   "attachments": {},
   "cell_type": "markdown",
   "id": "5d9bee2a",
   "metadata": {},
   "source": [
    " \t\t\t\t\n",
    "Labor Force Statistics from the Current Population Survey  \n",
    "Original Data Value\t\t\t\t\t\n",
    "\t\t\t\t\t\n",
    "Seasonally Adjusted\t\t\t\t\t\n",
    "Series title:\t(Seas) Unemployment Level\t\t\t\t\n",
    "Labor force status:\tUnemployed\t\t\t\t\n",
    "Type of data:\tNumber in thousands\t\t\t\t\n",
    "Age:\t16 years and over\t\t\t\t\n",
    "Years:\t2011 to 2020\t\t\t\t\n"
   ]
  },
  {
   "cell_type": "code",
   "execution_count": 139,
   "id": "65d5c838",
   "metadata": {},
   "outputs": [
    {
     "name": "stdout",
     "output_type": "stream",
     "text": [
      "<class 'pandas.core.frame.DataFrame'>\n",
      "Int64Index: 10 entries, 0 to 9\n",
      "Data columns (total 13 columns):\n",
      " #   Column  Non-Null Count  Dtype\n",
      "---  ------  --------------  -----\n",
      " 0   Year    10 non-null     int32\n",
      " 1   Jan     10 non-null     int32\n",
      " 2   Feb     10 non-null     int32\n",
      " 3   Mar     10 non-null     int32\n",
      " 4   Apr     10 non-null     int32\n",
      " 5   May     10 non-null     int32\n",
      " 6   Jun     10 non-null     int32\n",
      " 7   Jul     10 non-null     int32\n",
      " 8   Aug     10 non-null     int32\n",
      " 9   Sep     10 non-null     int32\n",
      " 10  Oct     10 non-null     int32\n",
      " 11  Nov     10 non-null     int32\n",
      " 12  Dec     10 non-null     int32\n",
      "dtypes: int32(13)\n",
      "memory usage: 600.0 bytes\n"
     ]
    }
   ],
   "source": [
    "#info() function provides precise summary of a dataframe\n",
    "df.info()"
   ]
  },
  {
   "cell_type": "markdown",
   "id": "e9fd67db",
   "metadata": {},
   "source": [
    "#### Summary findings \n",
    "* We have total of 13 columns.\n",
    "* There is 10 rows in the data frame.\n",
    "* Data type is integers.\n",
    "* There is no missing values in the dataframe."
   ]
  },
  {
   "cell_type": "code",
   "execution_count": 138,
   "id": "125298a8",
   "metadata": {},
   "outputs": [
    {
     "data": {
      "text/html": [
       "<div>\n",
       "<style scoped>\n",
       "    .dataframe tbody tr th:only-of-type {\n",
       "        vertical-align: middle;\n",
       "    }\n",
       "\n",
       "    .dataframe tbody tr th {\n",
       "        vertical-align: top;\n",
       "    }\n",
       "\n",
       "    .dataframe thead th {\n",
       "        text-align: right;\n",
       "    }\n",
       "</style>\n",
       "<table border=\"1\" class=\"dataframe\">\n",
       "  <thead>\n",
       "    <tr style=\"text-align: right;\">\n",
       "      <th></th>\n",
       "      <th>Year</th>\n",
       "      <th>Jan</th>\n",
       "      <th>Feb</th>\n",
       "      <th>Mar</th>\n",
       "      <th>Apr</th>\n",
       "      <th>May</th>\n",
       "      <th>Jun</th>\n",
       "      <th>Jul</th>\n",
       "      <th>Aug</th>\n",
       "      <th>Sep</th>\n",
       "      <th>Oct</th>\n",
       "      <th>Nov</th>\n",
       "      <th>Dec</th>\n",
       "    </tr>\n",
       "  </thead>\n",
       "  <tbody>\n",
       "    <tr>\n",
       "      <th>count</th>\n",
       "      <td>10.00000</td>\n",
       "      <td>10.000000</td>\n",
       "      <td>10.000000</td>\n",
       "      <td>10.000000</td>\n",
       "      <td>10.000000</td>\n",
       "      <td>10.000000</td>\n",
       "      <td>10.000000</td>\n",
       "      <td>10.000000</td>\n",
       "      <td>10.000000</td>\n",
       "      <td>10.00000</td>\n",
       "      <td>10.000000</td>\n",
       "      <td>10.000000</td>\n",
       "      <td>10.000000</td>\n",
       "    </tr>\n",
       "    <tr>\n",
       "      <th>mean</th>\n",
       "      <td>2015.50000</td>\n",
       "      <td>9219.500000</td>\n",
       "      <td>9104.400000</td>\n",
       "      <td>9199.900000</td>\n",
       "      <td>10753.300000</td>\n",
       "      <td>10468.300000</td>\n",
       "      <td>10076.000000</td>\n",
       "      <td>9840.200000</td>\n",
       "      <td>9573.100000</td>\n",
       "      <td>9359.50000</td>\n",
       "      <td>9133.200000</td>\n",
       "      <td>9024.600000</td>\n",
       "      <td>8953.100000</td>\n",
       "    </tr>\n",
       "    <tr>\n",
       "      <th>std</th>\n",
       "      <td>3.02765</td>\n",
       "      <td>2979.349789</td>\n",
       "      <td>2934.511703</td>\n",
       "      <td>2732.471264</td>\n",
       "      <td>5095.246937</td>\n",
       "      <td>4586.886672</td>\n",
       "      <td>3843.173515</td>\n",
       "      <td>3542.082777</td>\n",
       "      <td>3006.840071</td>\n",
       "      <td>2925.99663</td>\n",
       "      <td>2691.653181</td>\n",
       "      <td>2576.051984</td>\n",
       "      <td>2549.334312</td>\n",
       "    </tr>\n",
       "    <tr>\n",
       "      <th>min</th>\n",
       "      <td>2011.00000</td>\n",
       "      <td>5796.000000</td>\n",
       "      <td>5717.000000</td>\n",
       "      <td>6201.000000</td>\n",
       "      <td>5995.000000</td>\n",
       "      <td>5965.000000</td>\n",
       "      <td>5914.000000</td>\n",
       "      <td>5969.000000</td>\n",
       "      <td>6000.000000</td>\n",
       "      <td>5728.00000</td>\n",
       "      <td>5922.000000</td>\n",
       "      <td>5907.000000</td>\n",
       "      <td>5844.000000</td>\n",
       "    </tr>\n",
       "    <tr>\n",
       "      <th>25%</th>\n",
       "      <td>2013.25000</td>\n",
       "      <td>6738.500000</td>\n",
       "      <td>6786.500000</td>\n",
       "      <td>7135.500000</td>\n",
       "      <td>7413.750000</td>\n",
       "      <td>7178.000000</td>\n",
       "      <td>7081.750000</td>\n",
       "      <td>7029.000000</td>\n",
       "      <td>7255.250000</td>\n",
       "      <td>7106.75000</td>\n",
       "      <td>6917.750000</td>\n",
       "      <td>6957.500000</td>\n",
       "      <td>6854.250000</td>\n",
       "    </tr>\n",
       "    <tr>\n",
       "      <th>50%</th>\n",
       "      <td>2015.50000</td>\n",
       "      <td>8256.000000</td>\n",
       "      <td>8150.500000</td>\n",
       "      <td>8238.000000</td>\n",
       "      <td>9126.000000</td>\n",
       "      <td>9346.500000</td>\n",
       "      <td>8853.500000</td>\n",
       "      <td>8887.500000</td>\n",
       "      <td>8795.500000</td>\n",
       "      <td>8607.50000</td>\n",
       "      <td>8456.000000</td>\n",
       "      <td>8545.000000</td>\n",
       "      <td>8312.000000</td>\n",
       "    </tr>\n",
       "    <tr>\n",
       "      <th>75%</th>\n",
       "      <td>2017.75000</td>\n",
       "      <td>11903.750000</td>\n",
       "      <td>11549.750000</td>\n",
       "      <td>11361.750000</td>\n",
       "      <td>12424.500000</td>\n",
       "      <td>12408.500000</td>\n",
       "      <td>12456.750000</td>\n",
       "      <td>12325.750000</td>\n",
       "      <td>12173.000000</td>\n",
       "      <td>11903.75000</td>\n",
       "      <td>11114.250000</td>\n",
       "      <td>10772.250000</td>\n",
       "      <td>10653.000000</td>\n",
       "    </tr>\n",
       "    <tr>\n",
       "      <th>max</th>\n",
       "      <td>2020.00000</td>\n",
       "      <td>14013.000000</td>\n",
       "      <td>13820.000000</td>\n",
       "      <td>13737.000000</td>\n",
       "      <td>23109.000000</td>\n",
       "      <td>20975.000000</td>\n",
       "      <td>17697.000000</td>\n",
       "      <td>16308.000000</td>\n",
       "      <td>13818.000000</td>\n",
       "      <td>13948.00000</td>\n",
       "      <td>13594.000000</td>\n",
       "      <td>13302.000000</td>\n",
       "      <td>13093.000000</td>\n",
       "    </tr>\n",
       "  </tbody>\n",
       "</table>\n",
       "</div>"
      ],
      "text/plain": [
       "             Year           Jan           Feb           Mar           Apr  \\\n",
       "count    10.00000     10.000000     10.000000     10.000000     10.000000   \n",
       "mean   2015.50000   9219.500000   9104.400000   9199.900000  10753.300000   \n",
       "std       3.02765   2979.349789   2934.511703   2732.471264   5095.246937   \n",
       "min    2011.00000   5796.000000   5717.000000   6201.000000   5995.000000   \n",
       "25%    2013.25000   6738.500000   6786.500000   7135.500000   7413.750000   \n",
       "50%    2015.50000   8256.000000   8150.500000   8238.000000   9126.000000   \n",
       "75%    2017.75000  11903.750000  11549.750000  11361.750000  12424.500000   \n",
       "max    2020.00000  14013.000000  13820.000000  13737.000000  23109.000000   \n",
       "\n",
       "                May           Jun           Jul           Aug          Sep  \\\n",
       "count     10.000000     10.000000     10.000000     10.000000     10.00000   \n",
       "mean   10468.300000  10076.000000   9840.200000   9573.100000   9359.50000   \n",
       "std     4586.886672   3843.173515   3542.082777   3006.840071   2925.99663   \n",
       "min     5965.000000   5914.000000   5969.000000   6000.000000   5728.00000   \n",
       "25%     7178.000000   7081.750000   7029.000000   7255.250000   7106.75000   \n",
       "50%     9346.500000   8853.500000   8887.500000   8795.500000   8607.50000   \n",
       "75%    12408.500000  12456.750000  12325.750000  12173.000000  11903.75000   \n",
       "max    20975.000000  17697.000000  16308.000000  13818.000000  13948.00000   \n",
       "\n",
       "                Oct           Nov           Dec  \n",
       "count     10.000000     10.000000     10.000000  \n",
       "mean    9133.200000   9024.600000   8953.100000  \n",
       "std     2691.653181   2576.051984   2549.334312  \n",
       "min     5922.000000   5907.000000   5844.000000  \n",
       "25%     6917.750000   6957.500000   6854.250000  \n",
       "50%     8456.000000   8545.000000   8312.000000  \n",
       "75%    11114.250000  10772.250000  10653.000000  \n",
       "max    13594.000000  13302.000000  13093.000000  "
      ]
     },
     "execution_count": 138,
     "metadata": {},
     "output_type": "execute_result"
    }
   ],
   "source": [
    "#summary of all variables\n",
    "#describe() function generates descriptive statistics that will provide visibility of the dispersion and shape of a dataset’s distribution\n",
    "df.describe()"
   ]
  },
  {
   "cell_type": "markdown",
   "id": "4905102e",
   "metadata": {},
   "source": [
    "### Discussion and Findings\n",
    "\"\"\"Based on the above graph, we have histogram which shows the unemployment age ranging from 16 and above from the Year 2011 to 2020. While retrieving the dataset there was missing values for the Year 2021 from September till December. I had to use dropna() to omit 2021 row. \n",
    "\"\"\""
   ]
  }
 ],
 "metadata": {
  "kernelspec": {
   "display_name": "Python 3",
   "language": "python",
   "name": "python3"
  },
  "language_info": {
   "codemirror_mode": {
    "name": "ipython",
    "version": 3
   },
   "file_extension": ".py",
   "mimetype": "text/x-python",
   "name": "python",
   "nbconvert_exporter": "python",
   "pygments_lexer": "ipython3",
   "version": "3.8.8"
  }
 },
 "nbformat": 4,
 "nbformat_minor": 5
}
